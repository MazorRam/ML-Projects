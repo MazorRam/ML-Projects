{
  "cells": [
    {
      "cell_type": "markdown",
      "metadata": {
        "id": "W8fPzTyJ_5sI"
      },
      "source": [
        "# **Netflix User Analysis**"
      ]
    },
    {
      "cell_type": "markdown",
      "metadata": {
        "id": "VyVwpWySAA-P"
      },
      "source": [
        "###Importing Libraries"
      ]
    },
    {
      "cell_type": "code",
      "execution_count": 427,
      "metadata": {
        "id": "DNxsvAzB6-fV"
      },
      "outputs": [],
      "source": [
        "import pandas as pd\n",
        "import numpy as np\n",
        "import matplotlib.pyplot as plt\n",
        "import seaborn as sns\n",
        "from scipy.stats import ttest_ind\n",
        "from sklearn.preprocessing import OneHotEncoder\n",
        "from sklearn.model_selection import train_test_split\n",
        "from sklearn.ensemble import RandomForestClassifier\n",
        "from sklearn.metrics import accuracy_score, precision_score, recall_score, f1_score, roc_auc_score\n",
        "from sklearn.model_selection import GridSearchCV"
      ]
    },
    {
      "cell_type": "markdown",
      "metadata": {
        "id": "7cHwPKocBWGq"
      },
      "source": [
        "##Loading Data"
      ]
    },
    {
      "cell_type": "code",
      "execution_count": 428,
      "metadata": {
        "id": "7F9jUGfABSD3"
      },
      "outputs": [],
      "source": [
        "# Load the dataset into a pandas DataFrame\n",
        "df = pd.read_csv('Netflix_Userbase.csv')"
      ]
    },
    {
      "cell_type": "markdown",
      "metadata": {
        "id": "_zOlqnZSBDc0"
      },
      "source": [
        "##Pre-Processing"
      ]
    },
    {
      "cell_type": "markdown",
      "metadata": {
        "id": "4aNiEL8ACbA8"
      },
      "source": [
        "####Dataset Preview"
      ]
    },
    {
      "cell_type": "code",
      "execution_count": 429,
      "metadata": {
        "colab": {
          "base_uri": "https://localhost:8080/",
          "height": 207
        },
        "id": "-vocsla6C0fO",
        "outputId": "3dbd8888-b13e-412b-e093-beafe330d2be"
      },
      "outputs": [
        {
          "output_type": "execute_result",
          "data": {
            "text/plain": [
              "   User ID Subscription Type  Monthly Revenue Join Date Last Payment Date  \\\n",
              "0        1             Basic               10  15-01-22          10-06-23   \n",
              "1        2           Premium               15  05-09-21          22-06-23   \n",
              "2        3          Standard               12  28-02-23          27-06-23   \n",
              "3        4          Standard               12  10-07-22          26-06-23   \n",
              "4        5             Basic               10  01-05-23          28-06-23   \n",
              "\n",
              "          Country  Age  Gender      Device Plan Duration  \n",
              "0   United States   28    Male  Smartphone       1 Month  \n",
              "1          Canada   35  Female      Tablet       1 Month  \n",
              "2  United Kingdom   42    Male    Smart TV       1 Month  \n",
              "3       Australia   51  Female      Laptop       1 Month  \n",
              "4         Germany   33    Male  Smartphone       1 Month  "
            ],
            "text/html": [
              "\n",
              "  <div id=\"df-b76fc0b1-6d03-4363-8716-5df93ecccd13\" class=\"colab-df-container\">\n",
              "    <div>\n",
              "<style scoped>\n",
              "    .dataframe tbody tr th:only-of-type {\n",
              "        vertical-align: middle;\n",
              "    }\n",
              "\n",
              "    .dataframe tbody tr th {\n",
              "        vertical-align: top;\n",
              "    }\n",
              "\n",
              "    .dataframe thead th {\n",
              "        text-align: right;\n",
              "    }\n",
              "</style>\n",
              "<table border=\"1\" class=\"dataframe\">\n",
              "  <thead>\n",
              "    <tr style=\"text-align: right;\">\n",
              "      <th></th>\n",
              "      <th>User ID</th>\n",
              "      <th>Subscription Type</th>\n",
              "      <th>Monthly Revenue</th>\n",
              "      <th>Join Date</th>\n",
              "      <th>Last Payment Date</th>\n",
              "      <th>Country</th>\n",
              "      <th>Age</th>\n",
              "      <th>Gender</th>\n",
              "      <th>Device</th>\n",
              "      <th>Plan Duration</th>\n",
              "    </tr>\n",
              "  </thead>\n",
              "  <tbody>\n",
              "    <tr>\n",
              "      <th>0</th>\n",
              "      <td>1</td>\n",
              "      <td>Basic</td>\n",
              "      <td>10</td>\n",
              "      <td>15-01-22</td>\n",
              "      <td>10-06-23</td>\n",
              "      <td>United States</td>\n",
              "      <td>28</td>\n",
              "      <td>Male</td>\n",
              "      <td>Smartphone</td>\n",
              "      <td>1 Month</td>\n",
              "    </tr>\n",
              "    <tr>\n",
              "      <th>1</th>\n",
              "      <td>2</td>\n",
              "      <td>Premium</td>\n",
              "      <td>15</td>\n",
              "      <td>05-09-21</td>\n",
              "      <td>22-06-23</td>\n",
              "      <td>Canada</td>\n",
              "      <td>35</td>\n",
              "      <td>Female</td>\n",
              "      <td>Tablet</td>\n",
              "      <td>1 Month</td>\n",
              "    </tr>\n",
              "    <tr>\n",
              "      <th>2</th>\n",
              "      <td>3</td>\n",
              "      <td>Standard</td>\n",
              "      <td>12</td>\n",
              "      <td>28-02-23</td>\n",
              "      <td>27-06-23</td>\n",
              "      <td>United Kingdom</td>\n",
              "      <td>42</td>\n",
              "      <td>Male</td>\n",
              "      <td>Smart TV</td>\n",
              "      <td>1 Month</td>\n",
              "    </tr>\n",
              "    <tr>\n",
              "      <th>3</th>\n",
              "      <td>4</td>\n",
              "      <td>Standard</td>\n",
              "      <td>12</td>\n",
              "      <td>10-07-22</td>\n",
              "      <td>26-06-23</td>\n",
              "      <td>Australia</td>\n",
              "      <td>51</td>\n",
              "      <td>Female</td>\n",
              "      <td>Laptop</td>\n",
              "      <td>1 Month</td>\n",
              "    </tr>\n",
              "    <tr>\n",
              "      <th>4</th>\n",
              "      <td>5</td>\n",
              "      <td>Basic</td>\n",
              "      <td>10</td>\n",
              "      <td>01-05-23</td>\n",
              "      <td>28-06-23</td>\n",
              "      <td>Germany</td>\n",
              "      <td>33</td>\n",
              "      <td>Male</td>\n",
              "      <td>Smartphone</td>\n",
              "      <td>1 Month</td>\n",
              "    </tr>\n",
              "  </tbody>\n",
              "</table>\n",
              "</div>\n",
              "    <div class=\"colab-df-buttons\">\n",
              "\n",
              "  <div class=\"colab-df-container\">\n",
              "    <button class=\"colab-df-convert\" onclick=\"convertToInteractive('df-b76fc0b1-6d03-4363-8716-5df93ecccd13')\"\n",
              "            title=\"Convert this dataframe to an interactive table.\"\n",
              "            style=\"display:none;\">\n",
              "\n",
              "  <svg xmlns=\"http://www.w3.org/2000/svg\" height=\"24px\" viewBox=\"0 -960 960 960\">\n",
              "    <path d=\"M120-120v-720h720v720H120Zm60-500h600v-160H180v160Zm220 220h160v-160H400v160Zm0 220h160v-160H400v160ZM180-400h160v-160H180v160Zm440 0h160v-160H620v160ZM180-180h160v-160H180v160Zm440 0h160v-160H620v160Z\"/>\n",
              "  </svg>\n",
              "    </button>\n",
              "\n",
              "  <style>\n",
              "    .colab-df-container {\n",
              "      display:flex;\n",
              "      gap: 12px;\n",
              "    }\n",
              "\n",
              "    .colab-df-convert {\n",
              "      background-color: #E8F0FE;\n",
              "      border: none;\n",
              "      border-radius: 50%;\n",
              "      cursor: pointer;\n",
              "      display: none;\n",
              "      fill: #1967D2;\n",
              "      height: 32px;\n",
              "      padding: 0 0 0 0;\n",
              "      width: 32px;\n",
              "    }\n",
              "\n",
              "    .colab-df-convert:hover {\n",
              "      background-color: #E2EBFA;\n",
              "      box-shadow: 0px 1px 2px rgba(60, 64, 67, 0.3), 0px 1px 3px 1px rgba(60, 64, 67, 0.15);\n",
              "      fill: #174EA6;\n",
              "    }\n",
              "\n",
              "    .colab-df-buttons div {\n",
              "      margin-bottom: 4px;\n",
              "    }\n",
              "\n",
              "    [theme=dark] .colab-df-convert {\n",
              "      background-color: #3B4455;\n",
              "      fill: #D2E3FC;\n",
              "    }\n",
              "\n",
              "    [theme=dark] .colab-df-convert:hover {\n",
              "      background-color: #434B5C;\n",
              "      box-shadow: 0px 1px 3px 1px rgba(0, 0, 0, 0.15);\n",
              "      filter: drop-shadow(0px 1px 2px rgba(0, 0, 0, 0.3));\n",
              "      fill: #FFFFFF;\n",
              "    }\n",
              "  </style>\n",
              "\n",
              "    <script>\n",
              "      const buttonEl =\n",
              "        document.querySelector('#df-b76fc0b1-6d03-4363-8716-5df93ecccd13 button.colab-df-convert');\n",
              "      buttonEl.style.display =\n",
              "        google.colab.kernel.accessAllowed ? 'block' : 'none';\n",
              "\n",
              "      async function convertToInteractive(key) {\n",
              "        const element = document.querySelector('#df-b76fc0b1-6d03-4363-8716-5df93ecccd13');\n",
              "        const dataTable =\n",
              "          await google.colab.kernel.invokeFunction('convertToInteractive',\n",
              "                                                    [key], {});\n",
              "        if (!dataTable) return;\n",
              "\n",
              "        const docLinkHtml = 'Like what you see? Visit the ' +\n",
              "          '<a target=\"_blank\" href=https://colab.research.google.com/notebooks/data_table.ipynb>data table notebook</a>'\n",
              "          + ' to learn more about interactive tables.';\n",
              "        element.innerHTML = '';\n",
              "        dataTable['output_type'] = 'display_data';\n",
              "        await google.colab.output.renderOutput(dataTable, element);\n",
              "        const docLink = document.createElement('div');\n",
              "        docLink.innerHTML = docLinkHtml;\n",
              "        element.appendChild(docLink);\n",
              "      }\n",
              "    </script>\n",
              "  </div>\n",
              "\n",
              "\n",
              "<div id=\"df-6350358a-4090-405b-a7c2-fb85485d1ce9\">\n",
              "  <button class=\"colab-df-quickchart\" onclick=\"quickchart('df-6350358a-4090-405b-a7c2-fb85485d1ce9')\"\n",
              "            title=\"Suggest charts\"\n",
              "            style=\"display:none;\">\n",
              "\n",
              "<svg xmlns=\"http://www.w3.org/2000/svg\" height=\"24px\"viewBox=\"0 0 24 24\"\n",
              "     width=\"24px\">\n",
              "    <g>\n",
              "        <path d=\"M19 3H5c-1.1 0-2 .9-2 2v14c0 1.1.9 2 2 2h14c1.1 0 2-.9 2-2V5c0-1.1-.9-2-2-2zM9 17H7v-7h2v7zm4 0h-2V7h2v10zm4 0h-2v-4h2v4z\"/>\n",
              "    </g>\n",
              "</svg>\n",
              "  </button>\n",
              "\n",
              "<style>\n",
              "  .colab-df-quickchart {\n",
              "      --bg-color: #E8F0FE;\n",
              "      --fill-color: #1967D2;\n",
              "      --hover-bg-color: #E2EBFA;\n",
              "      --hover-fill-color: #174EA6;\n",
              "      --disabled-fill-color: #AAA;\n",
              "      --disabled-bg-color: #DDD;\n",
              "  }\n",
              "\n",
              "  [theme=dark] .colab-df-quickchart {\n",
              "      --bg-color: #3B4455;\n",
              "      --fill-color: #D2E3FC;\n",
              "      --hover-bg-color: #434B5C;\n",
              "      --hover-fill-color: #FFFFFF;\n",
              "      --disabled-bg-color: #3B4455;\n",
              "      --disabled-fill-color: #666;\n",
              "  }\n",
              "\n",
              "  .colab-df-quickchart {\n",
              "    background-color: var(--bg-color);\n",
              "    border: none;\n",
              "    border-radius: 50%;\n",
              "    cursor: pointer;\n",
              "    display: none;\n",
              "    fill: var(--fill-color);\n",
              "    height: 32px;\n",
              "    padding: 0;\n",
              "    width: 32px;\n",
              "  }\n",
              "\n",
              "  .colab-df-quickchart:hover {\n",
              "    background-color: var(--hover-bg-color);\n",
              "    box-shadow: 0 1px 2px rgba(60, 64, 67, 0.3), 0 1px 3px 1px rgba(60, 64, 67, 0.15);\n",
              "    fill: var(--button-hover-fill-color);\n",
              "  }\n",
              "\n",
              "  .colab-df-quickchart-complete:disabled,\n",
              "  .colab-df-quickchart-complete:disabled:hover {\n",
              "    background-color: var(--disabled-bg-color);\n",
              "    fill: var(--disabled-fill-color);\n",
              "    box-shadow: none;\n",
              "  }\n",
              "\n",
              "  .colab-df-spinner {\n",
              "    border: 2px solid var(--fill-color);\n",
              "    border-color: transparent;\n",
              "    border-bottom-color: var(--fill-color);\n",
              "    animation:\n",
              "      spin 1s steps(1) infinite;\n",
              "  }\n",
              "\n",
              "  @keyframes spin {\n",
              "    0% {\n",
              "      border-color: transparent;\n",
              "      border-bottom-color: var(--fill-color);\n",
              "      border-left-color: var(--fill-color);\n",
              "    }\n",
              "    20% {\n",
              "      border-color: transparent;\n",
              "      border-left-color: var(--fill-color);\n",
              "      border-top-color: var(--fill-color);\n",
              "    }\n",
              "    30% {\n",
              "      border-color: transparent;\n",
              "      border-left-color: var(--fill-color);\n",
              "      border-top-color: var(--fill-color);\n",
              "      border-right-color: var(--fill-color);\n",
              "    }\n",
              "    40% {\n",
              "      border-color: transparent;\n",
              "      border-right-color: var(--fill-color);\n",
              "      border-top-color: var(--fill-color);\n",
              "    }\n",
              "    60% {\n",
              "      border-color: transparent;\n",
              "      border-right-color: var(--fill-color);\n",
              "    }\n",
              "    80% {\n",
              "      border-color: transparent;\n",
              "      border-right-color: var(--fill-color);\n",
              "      border-bottom-color: var(--fill-color);\n",
              "    }\n",
              "    90% {\n",
              "      border-color: transparent;\n",
              "      border-bottom-color: var(--fill-color);\n",
              "    }\n",
              "  }\n",
              "</style>\n",
              "\n",
              "  <script>\n",
              "    async function quickchart(key) {\n",
              "      const quickchartButtonEl =\n",
              "        document.querySelector('#' + key + ' button');\n",
              "      quickchartButtonEl.disabled = true;  // To prevent multiple clicks.\n",
              "      quickchartButtonEl.classList.add('colab-df-spinner');\n",
              "      try {\n",
              "        const charts = await google.colab.kernel.invokeFunction(\n",
              "            'suggestCharts', [key], {});\n",
              "      } catch (error) {\n",
              "        console.error('Error during call to suggestCharts:', error);\n",
              "      }\n",
              "      quickchartButtonEl.classList.remove('colab-df-spinner');\n",
              "      quickchartButtonEl.classList.add('colab-df-quickchart-complete');\n",
              "    }\n",
              "    (() => {\n",
              "      let quickchartButtonEl =\n",
              "        document.querySelector('#df-6350358a-4090-405b-a7c2-fb85485d1ce9 button');\n",
              "      quickchartButtonEl.style.display =\n",
              "        google.colab.kernel.accessAllowed ? 'block' : 'none';\n",
              "    })();\n",
              "  </script>\n",
              "</div>\n",
              "\n",
              "    </div>\n",
              "  </div>\n"
            ],
            "application/vnd.google.colaboratory.intrinsic+json": {
              "type": "dataframe",
              "variable_name": "df",
              "summary": "{\n  \"name\": \"df\",\n  \"rows\": 2500,\n  \"fields\": [\n    {\n      \"column\": \"User ID\",\n      \"properties\": {\n        \"dtype\": \"number\",\n        \"std\": 721,\n        \"min\": 1,\n        \"max\": 2500,\n        \"num_unique_values\": 2500,\n        \"samples\": [\n          1448,\n          1115,\n          1065\n        ],\n        \"semantic_type\": \"\",\n        \"description\": \"\"\n      }\n    },\n    {\n      \"column\": \"Subscription Type\",\n      \"properties\": {\n        \"dtype\": \"category\",\n        \"num_unique_values\": 3,\n        \"samples\": [\n          \"Basic\",\n          \"Premium\",\n          \"Standard\"\n        ],\n        \"semantic_type\": \"\",\n        \"description\": \"\"\n      }\n    },\n    {\n      \"column\": \"Monthly Revenue\",\n      \"properties\": {\n        \"dtype\": \"number\",\n        \"std\": 1,\n        \"min\": 10,\n        \"max\": 15,\n        \"num_unique_values\": 6,\n        \"samples\": [\n          10,\n          15,\n          14\n        ],\n        \"semantic_type\": \"\",\n        \"description\": \"\"\n      }\n    },\n    {\n      \"column\": \"Join Date\",\n      \"properties\": {\n        \"dtype\": \"object\",\n        \"num_unique_values\": 300,\n        \"samples\": [\n          \"02-08-22\",\n          \"18-08-22\",\n          \"16-07-22\"\n        ],\n        \"semantic_type\": \"\",\n        \"description\": \"\"\n      }\n    },\n    {\n      \"column\": \"Last Payment Date\",\n      \"properties\": {\n        \"dtype\": \"object\",\n        \"num_unique_values\": 26,\n        \"samples\": [\n          \"20-06-23\",\n          \"06-07-23\",\n          \"10-06-23\"\n        ],\n        \"semantic_type\": \"\",\n        \"description\": \"\"\n      }\n    },\n    {\n      \"column\": \"Country\",\n      \"properties\": {\n        \"dtype\": \"category\",\n        \"num_unique_values\": 10,\n        \"samples\": [\n          \"Spain\",\n          \"Canada\",\n          \"France\"\n        ],\n        \"semantic_type\": \"\",\n        \"description\": \"\"\n      }\n    },\n    {\n      \"column\": \"Age\",\n      \"properties\": {\n        \"dtype\": \"number\",\n        \"std\": 7,\n        \"min\": 26,\n        \"max\": 51,\n        \"num_unique_values\": 26,\n        \"samples\": [\n          37,\n          30,\n          28\n        ],\n        \"semantic_type\": \"\",\n        \"description\": \"\"\n      }\n    },\n    {\n      \"column\": \"Gender\",\n      \"properties\": {\n        \"dtype\": \"category\",\n        \"num_unique_values\": 2,\n        \"samples\": [\n          \"Female\",\n          \"Male\"\n        ],\n        \"semantic_type\": \"\",\n        \"description\": \"\"\n      }\n    },\n    {\n      \"column\": \"Device\",\n      \"properties\": {\n        \"dtype\": \"category\",\n        \"num_unique_values\": 4,\n        \"samples\": [\n          \"Tablet\",\n          \"Laptop\"\n        ],\n        \"semantic_type\": \"\",\n        \"description\": \"\"\n      }\n    },\n    {\n      \"column\": \"Plan Duration\",\n      \"properties\": {\n        \"dtype\": \"category\",\n        \"num_unique_values\": 1,\n        \"samples\": [\n          \"1 Month\"\n        ],\n        \"semantic_type\": \"\",\n        \"description\": \"\"\n      }\n    }\n  ]\n}"
            }
          },
          "metadata": {},
          "execution_count": 429
        }
      ],
      "source": [
        "df.head()"
      ]
    },
    {
      "cell_type": "code",
      "execution_count": 430,
      "metadata": {
        "colab": {
          "base_uri": "https://localhost:8080/",
          "height": 207
        },
        "id": "0uug9QTMDVxM",
        "outputId": "0ecdecc0-0541-49e9-fc08-5aaf82d73244"
      },
      "outputs": [
        {
          "output_type": "execute_result",
          "data": {
            "text/plain": [
              "      User ID Subscription Type  Monthly Revenue Join Date Last Payment Date  \\\n",
              "2495     2496           Premium               14  25-07-22          12-07-23   \n",
              "2496     2497             Basic               15  04-08-22          14-07-23   \n",
              "2497     2498          Standard               12  09-08-22          15-07-23   \n",
              "2498     2499          Standard               13  12-08-22          12-07-23   \n",
              "2499     2500             Basic               15  13-08-22          12-07-23   \n",
              "\n",
              "            Country  Age  Gender    Device Plan Duration  \n",
              "2495          Spain   28  Female  Smart TV       1 Month  \n",
              "2496          Spain   33  Female  Smart TV       1 Month  \n",
              "2497  United States   38    Male    Laptop       1 Month  \n",
              "2498         Canada   48  Female    Tablet       1 Month  \n",
              "2499  United States   35  Female  Smart TV       1 Month  "
            ],
            "text/html": [
              "\n",
              "  <div id=\"df-874c7580-c19d-46dc-a1d8-48368494bc09\" class=\"colab-df-container\">\n",
              "    <div>\n",
              "<style scoped>\n",
              "    .dataframe tbody tr th:only-of-type {\n",
              "        vertical-align: middle;\n",
              "    }\n",
              "\n",
              "    .dataframe tbody tr th {\n",
              "        vertical-align: top;\n",
              "    }\n",
              "\n",
              "    .dataframe thead th {\n",
              "        text-align: right;\n",
              "    }\n",
              "</style>\n",
              "<table border=\"1\" class=\"dataframe\">\n",
              "  <thead>\n",
              "    <tr style=\"text-align: right;\">\n",
              "      <th></th>\n",
              "      <th>User ID</th>\n",
              "      <th>Subscription Type</th>\n",
              "      <th>Monthly Revenue</th>\n",
              "      <th>Join Date</th>\n",
              "      <th>Last Payment Date</th>\n",
              "      <th>Country</th>\n",
              "      <th>Age</th>\n",
              "      <th>Gender</th>\n",
              "      <th>Device</th>\n",
              "      <th>Plan Duration</th>\n",
              "    </tr>\n",
              "  </thead>\n",
              "  <tbody>\n",
              "    <tr>\n",
              "      <th>2495</th>\n",
              "      <td>2496</td>\n",
              "      <td>Premium</td>\n",
              "      <td>14</td>\n",
              "      <td>25-07-22</td>\n",
              "      <td>12-07-23</td>\n",
              "      <td>Spain</td>\n",
              "      <td>28</td>\n",
              "      <td>Female</td>\n",
              "      <td>Smart TV</td>\n",
              "      <td>1 Month</td>\n",
              "    </tr>\n",
              "    <tr>\n",
              "      <th>2496</th>\n",
              "      <td>2497</td>\n",
              "      <td>Basic</td>\n",
              "      <td>15</td>\n",
              "      <td>04-08-22</td>\n",
              "      <td>14-07-23</td>\n",
              "      <td>Spain</td>\n",
              "      <td>33</td>\n",
              "      <td>Female</td>\n",
              "      <td>Smart TV</td>\n",
              "      <td>1 Month</td>\n",
              "    </tr>\n",
              "    <tr>\n",
              "      <th>2497</th>\n",
              "      <td>2498</td>\n",
              "      <td>Standard</td>\n",
              "      <td>12</td>\n",
              "      <td>09-08-22</td>\n",
              "      <td>15-07-23</td>\n",
              "      <td>United States</td>\n",
              "      <td>38</td>\n",
              "      <td>Male</td>\n",
              "      <td>Laptop</td>\n",
              "      <td>1 Month</td>\n",
              "    </tr>\n",
              "    <tr>\n",
              "      <th>2498</th>\n",
              "      <td>2499</td>\n",
              "      <td>Standard</td>\n",
              "      <td>13</td>\n",
              "      <td>12-08-22</td>\n",
              "      <td>12-07-23</td>\n",
              "      <td>Canada</td>\n",
              "      <td>48</td>\n",
              "      <td>Female</td>\n",
              "      <td>Tablet</td>\n",
              "      <td>1 Month</td>\n",
              "    </tr>\n",
              "    <tr>\n",
              "      <th>2499</th>\n",
              "      <td>2500</td>\n",
              "      <td>Basic</td>\n",
              "      <td>15</td>\n",
              "      <td>13-08-22</td>\n",
              "      <td>12-07-23</td>\n",
              "      <td>United States</td>\n",
              "      <td>35</td>\n",
              "      <td>Female</td>\n",
              "      <td>Smart TV</td>\n",
              "      <td>1 Month</td>\n",
              "    </tr>\n",
              "  </tbody>\n",
              "</table>\n",
              "</div>\n",
              "    <div class=\"colab-df-buttons\">\n",
              "\n",
              "  <div class=\"colab-df-container\">\n",
              "    <button class=\"colab-df-convert\" onclick=\"convertToInteractive('df-874c7580-c19d-46dc-a1d8-48368494bc09')\"\n",
              "            title=\"Convert this dataframe to an interactive table.\"\n",
              "            style=\"display:none;\">\n",
              "\n",
              "  <svg xmlns=\"http://www.w3.org/2000/svg\" height=\"24px\" viewBox=\"0 -960 960 960\">\n",
              "    <path d=\"M120-120v-720h720v720H120Zm60-500h600v-160H180v160Zm220 220h160v-160H400v160Zm0 220h160v-160H400v160ZM180-400h160v-160H180v160Zm440 0h160v-160H620v160ZM180-180h160v-160H180v160Zm440 0h160v-160H620v160Z\"/>\n",
              "  </svg>\n",
              "    </button>\n",
              "\n",
              "  <style>\n",
              "    .colab-df-container {\n",
              "      display:flex;\n",
              "      gap: 12px;\n",
              "    }\n",
              "\n",
              "    .colab-df-convert {\n",
              "      background-color: #E8F0FE;\n",
              "      border: none;\n",
              "      border-radius: 50%;\n",
              "      cursor: pointer;\n",
              "      display: none;\n",
              "      fill: #1967D2;\n",
              "      height: 32px;\n",
              "      padding: 0 0 0 0;\n",
              "      width: 32px;\n",
              "    }\n",
              "\n",
              "    .colab-df-convert:hover {\n",
              "      background-color: #E2EBFA;\n",
              "      box-shadow: 0px 1px 2px rgba(60, 64, 67, 0.3), 0px 1px 3px 1px rgba(60, 64, 67, 0.15);\n",
              "      fill: #174EA6;\n",
              "    }\n",
              "\n",
              "    .colab-df-buttons div {\n",
              "      margin-bottom: 4px;\n",
              "    }\n",
              "\n",
              "    [theme=dark] .colab-df-convert {\n",
              "      background-color: #3B4455;\n",
              "      fill: #D2E3FC;\n",
              "    }\n",
              "\n",
              "    [theme=dark] .colab-df-convert:hover {\n",
              "      background-color: #434B5C;\n",
              "      box-shadow: 0px 1px 3px 1px rgba(0, 0, 0, 0.15);\n",
              "      filter: drop-shadow(0px 1px 2px rgba(0, 0, 0, 0.3));\n",
              "      fill: #FFFFFF;\n",
              "    }\n",
              "  </style>\n",
              "\n",
              "    <script>\n",
              "      const buttonEl =\n",
              "        document.querySelector('#df-874c7580-c19d-46dc-a1d8-48368494bc09 button.colab-df-convert');\n",
              "      buttonEl.style.display =\n",
              "        google.colab.kernel.accessAllowed ? 'block' : 'none';\n",
              "\n",
              "      async function convertToInteractive(key) {\n",
              "        const element = document.querySelector('#df-874c7580-c19d-46dc-a1d8-48368494bc09');\n",
              "        const dataTable =\n",
              "          await google.colab.kernel.invokeFunction('convertToInteractive',\n",
              "                                                    [key], {});\n",
              "        if (!dataTable) return;\n",
              "\n",
              "        const docLinkHtml = 'Like what you see? Visit the ' +\n",
              "          '<a target=\"_blank\" href=https://colab.research.google.com/notebooks/data_table.ipynb>data table notebook</a>'\n",
              "          + ' to learn more about interactive tables.';\n",
              "        element.innerHTML = '';\n",
              "        dataTable['output_type'] = 'display_data';\n",
              "        await google.colab.output.renderOutput(dataTable, element);\n",
              "        const docLink = document.createElement('div');\n",
              "        docLink.innerHTML = docLinkHtml;\n",
              "        element.appendChild(docLink);\n",
              "      }\n",
              "    </script>\n",
              "  </div>\n",
              "\n",
              "\n",
              "<div id=\"df-a461ed00-0ddb-453a-bf0f-5af03bd4d0a5\">\n",
              "  <button class=\"colab-df-quickchart\" onclick=\"quickchart('df-a461ed00-0ddb-453a-bf0f-5af03bd4d0a5')\"\n",
              "            title=\"Suggest charts\"\n",
              "            style=\"display:none;\">\n",
              "\n",
              "<svg xmlns=\"http://www.w3.org/2000/svg\" height=\"24px\"viewBox=\"0 0 24 24\"\n",
              "     width=\"24px\">\n",
              "    <g>\n",
              "        <path d=\"M19 3H5c-1.1 0-2 .9-2 2v14c0 1.1.9 2 2 2h14c1.1 0 2-.9 2-2V5c0-1.1-.9-2-2-2zM9 17H7v-7h2v7zm4 0h-2V7h2v10zm4 0h-2v-4h2v4z\"/>\n",
              "    </g>\n",
              "</svg>\n",
              "  </button>\n",
              "\n",
              "<style>\n",
              "  .colab-df-quickchart {\n",
              "      --bg-color: #E8F0FE;\n",
              "      --fill-color: #1967D2;\n",
              "      --hover-bg-color: #E2EBFA;\n",
              "      --hover-fill-color: #174EA6;\n",
              "      --disabled-fill-color: #AAA;\n",
              "      --disabled-bg-color: #DDD;\n",
              "  }\n",
              "\n",
              "  [theme=dark] .colab-df-quickchart {\n",
              "      --bg-color: #3B4455;\n",
              "      --fill-color: #D2E3FC;\n",
              "      --hover-bg-color: #434B5C;\n",
              "      --hover-fill-color: #FFFFFF;\n",
              "      --disabled-bg-color: #3B4455;\n",
              "      --disabled-fill-color: #666;\n",
              "  }\n",
              "\n",
              "  .colab-df-quickchart {\n",
              "    background-color: var(--bg-color);\n",
              "    border: none;\n",
              "    border-radius: 50%;\n",
              "    cursor: pointer;\n",
              "    display: none;\n",
              "    fill: var(--fill-color);\n",
              "    height: 32px;\n",
              "    padding: 0;\n",
              "    width: 32px;\n",
              "  }\n",
              "\n",
              "  .colab-df-quickchart:hover {\n",
              "    background-color: var(--hover-bg-color);\n",
              "    box-shadow: 0 1px 2px rgba(60, 64, 67, 0.3), 0 1px 3px 1px rgba(60, 64, 67, 0.15);\n",
              "    fill: var(--button-hover-fill-color);\n",
              "  }\n",
              "\n",
              "  .colab-df-quickchart-complete:disabled,\n",
              "  .colab-df-quickchart-complete:disabled:hover {\n",
              "    background-color: var(--disabled-bg-color);\n",
              "    fill: var(--disabled-fill-color);\n",
              "    box-shadow: none;\n",
              "  }\n",
              "\n",
              "  .colab-df-spinner {\n",
              "    border: 2px solid var(--fill-color);\n",
              "    border-color: transparent;\n",
              "    border-bottom-color: var(--fill-color);\n",
              "    animation:\n",
              "      spin 1s steps(1) infinite;\n",
              "  }\n",
              "\n",
              "  @keyframes spin {\n",
              "    0% {\n",
              "      border-color: transparent;\n",
              "      border-bottom-color: var(--fill-color);\n",
              "      border-left-color: var(--fill-color);\n",
              "    }\n",
              "    20% {\n",
              "      border-color: transparent;\n",
              "      border-left-color: var(--fill-color);\n",
              "      border-top-color: var(--fill-color);\n",
              "    }\n",
              "    30% {\n",
              "      border-color: transparent;\n",
              "      border-left-color: var(--fill-color);\n",
              "      border-top-color: var(--fill-color);\n",
              "      border-right-color: var(--fill-color);\n",
              "    }\n",
              "    40% {\n",
              "      border-color: transparent;\n",
              "      border-right-color: var(--fill-color);\n",
              "      border-top-color: var(--fill-color);\n",
              "    }\n",
              "    60% {\n",
              "      border-color: transparent;\n",
              "      border-right-color: var(--fill-color);\n",
              "    }\n",
              "    80% {\n",
              "      border-color: transparent;\n",
              "      border-right-color: var(--fill-color);\n",
              "      border-bottom-color: var(--fill-color);\n",
              "    }\n",
              "    90% {\n",
              "      border-color: transparent;\n",
              "      border-bottom-color: var(--fill-color);\n",
              "    }\n",
              "  }\n",
              "</style>\n",
              "\n",
              "  <script>\n",
              "    async function quickchart(key) {\n",
              "      const quickchartButtonEl =\n",
              "        document.querySelector('#' + key + ' button');\n",
              "      quickchartButtonEl.disabled = true;  // To prevent multiple clicks.\n",
              "      quickchartButtonEl.classList.add('colab-df-spinner');\n",
              "      try {\n",
              "        const charts = await google.colab.kernel.invokeFunction(\n",
              "            'suggestCharts', [key], {});\n",
              "      } catch (error) {\n",
              "        console.error('Error during call to suggestCharts:', error);\n",
              "      }\n",
              "      quickchartButtonEl.classList.remove('colab-df-spinner');\n",
              "      quickchartButtonEl.classList.add('colab-df-quickchart-complete');\n",
              "    }\n",
              "    (() => {\n",
              "      let quickchartButtonEl =\n",
              "        document.querySelector('#df-a461ed00-0ddb-453a-bf0f-5af03bd4d0a5 button');\n",
              "      quickchartButtonEl.style.display =\n",
              "        google.colab.kernel.accessAllowed ? 'block' : 'none';\n",
              "    })();\n",
              "  </script>\n",
              "</div>\n",
              "\n",
              "    </div>\n",
              "  </div>\n"
            ],
            "application/vnd.google.colaboratory.intrinsic+json": {
              "type": "dataframe",
              "repr_error": "0"
            }
          },
          "metadata": {},
          "execution_count": 430
        }
      ],
      "source": [
        "df.tail()"
      ]
    },
    {
      "cell_type": "code",
      "execution_count": 431,
      "metadata": {
        "colab": {
          "base_uri": "https://localhost:8080/"
        },
        "id": "2DYzLKerDXop",
        "outputId": "d9cef7a8-533b-490a-e373-497cb85da3ea"
      },
      "outputs": [
        {
          "output_type": "stream",
          "name": "stdout",
          "text": [
            "<class 'pandas.core.frame.DataFrame'>\n",
            "RangeIndex: 2500 entries, 0 to 2499\n",
            "Data columns (total 10 columns):\n",
            " #   Column             Non-Null Count  Dtype \n",
            "---  ------             --------------  ----- \n",
            " 0   User ID            2500 non-null   int64 \n",
            " 1   Subscription Type  2500 non-null   object\n",
            " 2   Monthly Revenue    2500 non-null   int64 \n",
            " 3   Join Date          2500 non-null   object\n",
            " 4   Last Payment Date  2500 non-null   object\n",
            " 5   Country            2500 non-null   object\n",
            " 6   Age                2500 non-null   int64 \n",
            " 7   Gender             2500 non-null   object\n",
            " 8   Device             2500 non-null   object\n",
            " 9   Plan Duration      2500 non-null   object\n",
            "dtypes: int64(3), object(7)\n",
            "memory usage: 195.4+ KB\n"
          ]
        }
      ],
      "source": [
        "df.info()"
      ]
    },
    {
      "cell_type": "code",
      "execution_count": 432,
      "metadata": {
        "colab": {
          "base_uri": "https://localhost:8080/",
          "height": 301
        },
        "id": "NKZbo6sWDaLE",
        "outputId": "db144f68-ec87-49c2-9e7a-5dde83c3ee49"
      },
      "outputs": [
        {
          "output_type": "execute_result",
          "data": {
            "text/plain": [
              "          User ID  Monthly Revenue          Age\n",
              "count  2500.00000      2500.000000  2500.000000\n",
              "mean   1250.50000        12.508400    38.795600\n",
              "std     721.83216         1.686851     7.171778\n",
              "min       1.00000        10.000000    26.000000\n",
              "25%     625.75000        11.000000    32.000000\n",
              "50%    1250.50000        12.000000    39.000000\n",
              "75%    1875.25000        14.000000    45.000000\n",
              "max    2500.00000        15.000000    51.000000"
            ],
            "text/html": [
              "\n",
              "  <div id=\"df-439b2206-bf71-4cf2-b4d5-437d793e528f\" class=\"colab-df-container\">\n",
              "    <div>\n",
              "<style scoped>\n",
              "    .dataframe tbody tr th:only-of-type {\n",
              "        vertical-align: middle;\n",
              "    }\n",
              "\n",
              "    .dataframe tbody tr th {\n",
              "        vertical-align: top;\n",
              "    }\n",
              "\n",
              "    .dataframe thead th {\n",
              "        text-align: right;\n",
              "    }\n",
              "</style>\n",
              "<table border=\"1\" class=\"dataframe\">\n",
              "  <thead>\n",
              "    <tr style=\"text-align: right;\">\n",
              "      <th></th>\n",
              "      <th>User ID</th>\n",
              "      <th>Monthly Revenue</th>\n",
              "      <th>Age</th>\n",
              "    </tr>\n",
              "  </thead>\n",
              "  <tbody>\n",
              "    <tr>\n",
              "      <th>count</th>\n",
              "      <td>2500.00000</td>\n",
              "      <td>2500.000000</td>\n",
              "      <td>2500.000000</td>\n",
              "    </tr>\n",
              "    <tr>\n",
              "      <th>mean</th>\n",
              "      <td>1250.50000</td>\n",
              "      <td>12.508400</td>\n",
              "      <td>38.795600</td>\n",
              "    </tr>\n",
              "    <tr>\n",
              "      <th>std</th>\n",
              "      <td>721.83216</td>\n",
              "      <td>1.686851</td>\n",
              "      <td>7.171778</td>\n",
              "    </tr>\n",
              "    <tr>\n",
              "      <th>min</th>\n",
              "      <td>1.00000</td>\n",
              "      <td>10.000000</td>\n",
              "      <td>26.000000</td>\n",
              "    </tr>\n",
              "    <tr>\n",
              "      <th>25%</th>\n",
              "      <td>625.75000</td>\n",
              "      <td>11.000000</td>\n",
              "      <td>32.000000</td>\n",
              "    </tr>\n",
              "    <tr>\n",
              "      <th>50%</th>\n",
              "      <td>1250.50000</td>\n",
              "      <td>12.000000</td>\n",
              "      <td>39.000000</td>\n",
              "    </tr>\n",
              "    <tr>\n",
              "      <th>75%</th>\n",
              "      <td>1875.25000</td>\n",
              "      <td>14.000000</td>\n",
              "      <td>45.000000</td>\n",
              "    </tr>\n",
              "    <tr>\n",
              "      <th>max</th>\n",
              "      <td>2500.00000</td>\n",
              "      <td>15.000000</td>\n",
              "      <td>51.000000</td>\n",
              "    </tr>\n",
              "  </tbody>\n",
              "</table>\n",
              "</div>\n",
              "    <div class=\"colab-df-buttons\">\n",
              "\n",
              "  <div class=\"colab-df-container\">\n",
              "    <button class=\"colab-df-convert\" onclick=\"convertToInteractive('df-439b2206-bf71-4cf2-b4d5-437d793e528f')\"\n",
              "            title=\"Convert this dataframe to an interactive table.\"\n",
              "            style=\"display:none;\">\n",
              "\n",
              "  <svg xmlns=\"http://www.w3.org/2000/svg\" height=\"24px\" viewBox=\"0 -960 960 960\">\n",
              "    <path d=\"M120-120v-720h720v720H120Zm60-500h600v-160H180v160Zm220 220h160v-160H400v160Zm0 220h160v-160H400v160ZM180-400h160v-160H180v160Zm440 0h160v-160H620v160ZM180-180h160v-160H180v160Zm440 0h160v-160H620v160Z\"/>\n",
              "  </svg>\n",
              "    </button>\n",
              "\n",
              "  <style>\n",
              "    .colab-df-container {\n",
              "      display:flex;\n",
              "      gap: 12px;\n",
              "    }\n",
              "\n",
              "    .colab-df-convert {\n",
              "      background-color: #E8F0FE;\n",
              "      border: none;\n",
              "      border-radius: 50%;\n",
              "      cursor: pointer;\n",
              "      display: none;\n",
              "      fill: #1967D2;\n",
              "      height: 32px;\n",
              "      padding: 0 0 0 0;\n",
              "      width: 32px;\n",
              "    }\n",
              "\n",
              "    .colab-df-convert:hover {\n",
              "      background-color: #E2EBFA;\n",
              "      box-shadow: 0px 1px 2px rgba(60, 64, 67, 0.3), 0px 1px 3px 1px rgba(60, 64, 67, 0.15);\n",
              "      fill: #174EA6;\n",
              "    }\n",
              "\n",
              "    .colab-df-buttons div {\n",
              "      margin-bottom: 4px;\n",
              "    }\n",
              "\n",
              "    [theme=dark] .colab-df-convert {\n",
              "      background-color: #3B4455;\n",
              "      fill: #D2E3FC;\n",
              "    }\n",
              "\n",
              "    [theme=dark] .colab-df-convert:hover {\n",
              "      background-color: #434B5C;\n",
              "      box-shadow: 0px 1px 3px 1px rgba(0, 0, 0, 0.15);\n",
              "      filter: drop-shadow(0px 1px 2px rgba(0, 0, 0, 0.3));\n",
              "      fill: #FFFFFF;\n",
              "    }\n",
              "  </style>\n",
              "\n",
              "    <script>\n",
              "      const buttonEl =\n",
              "        document.querySelector('#df-439b2206-bf71-4cf2-b4d5-437d793e528f button.colab-df-convert');\n",
              "      buttonEl.style.display =\n",
              "        google.colab.kernel.accessAllowed ? 'block' : 'none';\n",
              "\n",
              "      async function convertToInteractive(key) {\n",
              "        const element = document.querySelector('#df-439b2206-bf71-4cf2-b4d5-437d793e528f');\n",
              "        const dataTable =\n",
              "          await google.colab.kernel.invokeFunction('convertToInteractive',\n",
              "                                                    [key], {});\n",
              "        if (!dataTable) return;\n",
              "\n",
              "        const docLinkHtml = 'Like what you see? Visit the ' +\n",
              "          '<a target=\"_blank\" href=https://colab.research.google.com/notebooks/data_table.ipynb>data table notebook</a>'\n",
              "          + ' to learn more about interactive tables.';\n",
              "        element.innerHTML = '';\n",
              "        dataTable['output_type'] = 'display_data';\n",
              "        await google.colab.output.renderOutput(dataTable, element);\n",
              "        const docLink = document.createElement('div');\n",
              "        docLink.innerHTML = docLinkHtml;\n",
              "        element.appendChild(docLink);\n",
              "      }\n",
              "    </script>\n",
              "  </div>\n",
              "\n",
              "\n",
              "<div id=\"df-c6a8c053-e98e-4abf-b94b-f4d58acc5da2\">\n",
              "  <button class=\"colab-df-quickchart\" onclick=\"quickchart('df-c6a8c053-e98e-4abf-b94b-f4d58acc5da2')\"\n",
              "            title=\"Suggest charts\"\n",
              "            style=\"display:none;\">\n",
              "\n",
              "<svg xmlns=\"http://www.w3.org/2000/svg\" height=\"24px\"viewBox=\"0 0 24 24\"\n",
              "     width=\"24px\">\n",
              "    <g>\n",
              "        <path d=\"M19 3H5c-1.1 0-2 .9-2 2v14c0 1.1.9 2 2 2h14c1.1 0 2-.9 2-2V5c0-1.1-.9-2-2-2zM9 17H7v-7h2v7zm4 0h-2V7h2v10zm4 0h-2v-4h2v4z\"/>\n",
              "    </g>\n",
              "</svg>\n",
              "  </button>\n",
              "\n",
              "<style>\n",
              "  .colab-df-quickchart {\n",
              "      --bg-color: #E8F0FE;\n",
              "      --fill-color: #1967D2;\n",
              "      --hover-bg-color: #E2EBFA;\n",
              "      --hover-fill-color: #174EA6;\n",
              "      --disabled-fill-color: #AAA;\n",
              "      --disabled-bg-color: #DDD;\n",
              "  }\n",
              "\n",
              "  [theme=dark] .colab-df-quickchart {\n",
              "      --bg-color: #3B4455;\n",
              "      --fill-color: #D2E3FC;\n",
              "      --hover-bg-color: #434B5C;\n",
              "      --hover-fill-color: #FFFFFF;\n",
              "      --disabled-bg-color: #3B4455;\n",
              "      --disabled-fill-color: #666;\n",
              "  }\n",
              "\n",
              "  .colab-df-quickchart {\n",
              "    background-color: var(--bg-color);\n",
              "    border: none;\n",
              "    border-radius: 50%;\n",
              "    cursor: pointer;\n",
              "    display: none;\n",
              "    fill: var(--fill-color);\n",
              "    height: 32px;\n",
              "    padding: 0;\n",
              "    width: 32px;\n",
              "  }\n",
              "\n",
              "  .colab-df-quickchart:hover {\n",
              "    background-color: var(--hover-bg-color);\n",
              "    box-shadow: 0 1px 2px rgba(60, 64, 67, 0.3), 0 1px 3px 1px rgba(60, 64, 67, 0.15);\n",
              "    fill: var(--button-hover-fill-color);\n",
              "  }\n",
              "\n",
              "  .colab-df-quickchart-complete:disabled,\n",
              "  .colab-df-quickchart-complete:disabled:hover {\n",
              "    background-color: var(--disabled-bg-color);\n",
              "    fill: var(--disabled-fill-color);\n",
              "    box-shadow: none;\n",
              "  }\n",
              "\n",
              "  .colab-df-spinner {\n",
              "    border: 2px solid var(--fill-color);\n",
              "    border-color: transparent;\n",
              "    border-bottom-color: var(--fill-color);\n",
              "    animation:\n",
              "      spin 1s steps(1) infinite;\n",
              "  }\n",
              "\n",
              "  @keyframes spin {\n",
              "    0% {\n",
              "      border-color: transparent;\n",
              "      border-bottom-color: var(--fill-color);\n",
              "      border-left-color: var(--fill-color);\n",
              "    }\n",
              "    20% {\n",
              "      border-color: transparent;\n",
              "      border-left-color: var(--fill-color);\n",
              "      border-top-color: var(--fill-color);\n",
              "    }\n",
              "    30% {\n",
              "      border-color: transparent;\n",
              "      border-left-color: var(--fill-color);\n",
              "      border-top-color: var(--fill-color);\n",
              "      border-right-color: var(--fill-color);\n",
              "    }\n",
              "    40% {\n",
              "      border-color: transparent;\n",
              "      border-right-color: var(--fill-color);\n",
              "      border-top-color: var(--fill-color);\n",
              "    }\n",
              "    60% {\n",
              "      border-color: transparent;\n",
              "      border-right-color: var(--fill-color);\n",
              "    }\n",
              "    80% {\n",
              "      border-color: transparent;\n",
              "      border-right-color: var(--fill-color);\n",
              "      border-bottom-color: var(--fill-color);\n",
              "    }\n",
              "    90% {\n",
              "      border-color: transparent;\n",
              "      border-bottom-color: var(--fill-color);\n",
              "    }\n",
              "  }\n",
              "</style>\n",
              "\n",
              "  <script>\n",
              "    async function quickchart(key) {\n",
              "      const quickchartButtonEl =\n",
              "        document.querySelector('#' + key + ' button');\n",
              "      quickchartButtonEl.disabled = true;  // To prevent multiple clicks.\n",
              "      quickchartButtonEl.classList.add('colab-df-spinner');\n",
              "      try {\n",
              "        const charts = await google.colab.kernel.invokeFunction(\n",
              "            'suggestCharts', [key], {});\n",
              "      } catch (error) {\n",
              "        console.error('Error during call to suggestCharts:', error);\n",
              "      }\n",
              "      quickchartButtonEl.classList.remove('colab-df-spinner');\n",
              "      quickchartButtonEl.classList.add('colab-df-quickchart-complete');\n",
              "    }\n",
              "    (() => {\n",
              "      let quickchartButtonEl =\n",
              "        document.querySelector('#df-c6a8c053-e98e-4abf-b94b-f4d58acc5da2 button');\n",
              "      quickchartButtonEl.style.display =\n",
              "        google.colab.kernel.accessAllowed ? 'block' : 'none';\n",
              "    })();\n",
              "  </script>\n",
              "</div>\n",
              "\n",
              "    </div>\n",
              "  </div>\n"
            ],
            "application/vnd.google.colaboratory.intrinsic+json": {
              "type": "dataframe",
              "summary": "{\n  \"name\": \"df\",\n  \"rows\": 8,\n  \"fields\": [\n    {\n      \"column\": \"User ID\",\n      \"properties\": {\n        \"dtype\": \"number\",\n        \"std\": 900.7073161176459,\n        \"min\": 1.0,\n        \"max\": 2500.0,\n        \"num_unique_values\": 6,\n        \"samples\": [\n          2500.0,\n          1250.5,\n          1875.25\n        ],\n        \"semantic_type\": \"\",\n        \"description\": \"\"\n      }\n    },\n    {\n      \"column\": \"Monthly Revenue\",\n      \"properties\": {\n        \"dtype\": \"number\",\n        \"std\": 880.0444435915687,\n        \"min\": 1.6868513944775396,\n        \"max\": 2500.0,\n        \"num_unique_values\": 8,\n        \"samples\": [\n          12.5084,\n          12.0,\n          2500.0\n        ],\n        \"semantic_type\": \"\",\n        \"description\": \"\"\n      }\n    },\n    {\n      \"column\": \"Age\",\n      \"properties\": {\n        \"dtype\": \"number\",\n        \"std\": 871.9158499704185,\n        \"min\": 7.171777631644689,\n        \"max\": 2500.0,\n        \"num_unique_values\": 8,\n        \"samples\": [\n          38.7956,\n          39.0,\n          2500.0\n        ],\n        \"semantic_type\": \"\",\n        \"description\": \"\"\n      }\n    }\n  ]\n}"
            }
          },
          "metadata": {},
          "execution_count": 432
        }
      ],
      "source": [
        "df.describe()"
      ]
    },
    {
      "cell_type": "code",
      "execution_count": 433,
      "metadata": {
        "colab": {
          "base_uri": "https://localhost:8080/"
        },
        "id": "TyA1Qr3lDckr",
        "outputId": "a0d615d8-1fc6-4f61-da16-4b2bad727fa7"
      },
      "outputs": [
        {
          "output_type": "execute_result",
          "data": {
            "text/plain": [
              "User ID              0\n",
              "Subscription Type    0\n",
              "Monthly Revenue      0\n",
              "Join Date            0\n",
              "Last Payment Date    0\n",
              "Country              0\n",
              "Age                  0\n",
              "Gender               0\n",
              "Device               0\n",
              "Plan Duration        0\n",
              "dtype: int64"
            ]
          },
          "metadata": {},
          "execution_count": 433
        }
      ],
      "source": [
        "df.isnull().sum()"
      ]
    },
    {
      "cell_type": "code",
      "execution_count": 434,
      "metadata": {
        "id": "20gAums9AeQ8"
      },
      "outputs": [],
      "source": [
        "# Clean and preprocess the data\n",
        "# df = df.dropna()  # remove missing values, here no null value\n",
        "df['Gender'] = df['Gender'].astype('category')  # convert gender to categorical variable\n",
        "df['Subscription Type'] = df['Subscription Type'].astype('category')  # convert subscription type to categorical variable\n",
        "\n",
        "# Convert 'Join Date' column to datetime format\n",
        "df['Join Date'] = pd.to_datetime(df['Join Date'], format='%Y-%m-%d', errors='coerce')"
      ]
    },
    {
      "cell_type": "markdown",
      "metadata": {
        "id": "LCgUMHbyAbRH"
      },
      "source": [
        "##Statistics"
      ]
    },
    {
      "cell_type": "markdown",
      "metadata": {
        "id": "9hvNPYt2jgSA"
      },
      "source": [
        "###Histogram to visualize the age distribution"
      ]
    },
    {
      "cell_type": "code",
      "execution_count": 435,
      "metadata": {
        "colab": {
          "base_uri": "https://localhost:8080/",
          "height": 1000
        },
        "id": "mNzHtZ0FjSSG",
        "outputId": "93dce007-1c2a-4502-ef69-93510ee2072b"
      },
      "outputs": [
        {
          "output_type": "display_data",
          "data": {
            "text/plain": [
              "<Figure size 1000x600 with 1 Axes>"
            ],
            "image/png": "[encoded data removed]"
          },
          "metadata": {}
        },
        {
          "output_type": "stream",
          "name": "stdout",
          "text": [
            "Count of Users per Age:\n",
            "Age\n",
            "26      1\n",
            "27     87\n",
            "28    115\n",
            "29    104\n",
            "30    116\n",
            "31    115\n",
            "32     92\n",
            "33     93\n",
            "34     88\n",
            "35    105\n",
            "36     99\n",
            "37    107\n",
            "38     89\n",
            "39    116\n",
            "40    103\n",
            "41    114\n",
            "42    102\n",
            "43     94\n",
            "44     86\n",
            "45     89\n",
            "46     99\n",
            "47    111\n",
            "48    101\n",
            "49     97\n",
            "50     84\n",
            "51     93\n",
            "Name: count, dtype: int64\n"
          ]
        }
      ],
      "source": [
        "plt.figure(figsize=(10, 6))  # Adjust figure size as needed\n",
        "sns.histplot(df['Age'], kde=True)  # kde adds a smoothed density curve\n",
        "plt.title('Distribution of Users by Age')\n",
        "plt.xlabel('Age')\n",
        "plt.ylabel('Number of Users')\n",
        "plt.show()\n",
        "\n",
        "age_counts = df['Age'].value_counts().sort_index()\n",
        "print(\"Count of Users per Age:\")\n",
        "print(age_counts)"
      ]
    },
    {
      "cell_type": "markdown",
      "metadata": {
        "id": "pZMNNeVhgj4_"
      },
      "source": [
        "###Distribution of Gender by Subscription Type"
      ]
    },
    {
      "cell_type": "code",
      "execution_count": 436,
      "metadata": {
        "colab": {
          "base_uri": "https://localhost:8080/",
          "height": 651
        },
        "id": "hqG_tv8WAe4E",
        "outputId": "182c4aa2-92a2-4337-cab8-114cd5f3568d"
      },
      "outputs": [
        {
          "output_type": "display_data",
          "data": {
            "text/plain": [
              "<Figure size 1000x600 with 1 Axes>"
            ],
            "image/png": "[encoded data removed]"
          },
          "metadata": {}
        },
        {
          "output_type": "stream",
          "name": "stdout",
          "text": [
            "Count of Users by Gender and Subscription Type:\n",
            "Subscription Type  Basic  Premium  Standard\n",
            "Gender                                     \n",
            "Female               512      364       381\n",
            "Male                 487      369       387\n"
          ]
        }
      ],
      "source": [
        "# Analyze the distribution of age and gender across different subscription types and devices\n",
        "plt.figure(figsize=(10, 6))\n",
        "sns.countplot(x='Gender', hue='Subscription Type', data=df)\n",
        "plt.title('Distribution of Gender by Subscription Type')\n",
        "plt.xlabel('Gender')\n",
        "plt.ylabel('Count')\n",
        "plt.show()\n",
        "\n",
        "# Print count of users by gender and subscription type\n",
        "gender_subscription_counts = df.groupby(['Gender', 'Subscription Type']).size().unstack(fill_value=0)\n",
        "print(\"Count of Users by Gender and Subscription Type:\")\n",
        "print(gender_subscription_counts)"
      ]
    },
    {
      "cell_type": "markdown",
      "metadata": {
        "id": "nZ_6PIgbgs2j"
      },
      "source": [
        "### Distribution of Device by Gender"
      ]
    },
    {
      "cell_type": "code",
      "execution_count": 437,
      "metadata": {
        "colab": {
          "base_uri": "https://localhost:8080/",
          "height": 608
        },
        "id": "UAbWpzDxgvUx",
        "outputId": "4b34ced4-357b-4c34-f98b-a6cecd91cadb"
      },
      "outputs": [
        {
          "output_type": "display_data",
          "data": {
            "text/plain": [
              "<Figure size 1000x500 with 1 Axes>"
            ],
            "image/png": "[encoded data removed]"
          },
          "metadata": {}
        },
        {
          "output_type": "stream",
          "name": "stdout",
          "text": [
            "Count of Users by Device and Gender:\n",
            "Gender      Female  Male\n",
            "Device                  \n",
            "Laptop         329   307\n",
            "Smart TV       305   305\n",
            "Smartphone     300   321\n",
            "Tablet         323   310\n"
          ]
        }
      ],
      "source": [
        "plt.figure(figsize=(10, 5))\n",
        "sns.countplot(x='Device', hue='Gender', data=df)\n",
        "plt.title('Distribution of Device by Gender')\n",
        "plt.xlabel('Device')\n",
        "plt.ylabel('Count')\n",
        "plt.show()\n",
        "\n",
        "# Print count of users by device and gender\n",
        "device_gender_counts = df.groupby(['Device', 'Gender']).size().unstack(fill_value=0)\n",
        "print(\"Count of Users by Device and Gender:\")\n",
        "print(device_gender_counts)"
      ]
    },
    {
      "cell_type": "markdown",
      "metadata": {
        "id": "gb517kpAgvsd"
      },
      "source": [
        "### Distribution of User by Subscription Type"
      ]
    },
    {
      "cell_type": "code",
      "execution_count": 438,
      "metadata": {
        "colab": {
          "base_uri": "https://localhost:8080/",
          "height": 591
        },
        "id": "KBuOCE1Vg3cG",
        "outputId": "34d1914c-8913-4377-9002-e8808f6efaa4"
      },
      "outputs": [
        {
          "output_type": "display_data",
          "data": {
            "text/plain": [
              "<Figure size 1000x500 with 1 Axes>"
            ],
            "image/png": "[encoded data removed]"
          },
          "metadata": {}
        },
        {
          "output_type": "stream",
          "name": "stdout",
          "text": [
            "Count of Users by Subscription Type:\n",
            "Subscription Type\n",
            "Basic       999\n",
            "Premium     733\n",
            "Standard    768\n",
            "Name: count, dtype: int64\n"
          ]
        }
      ],
      "source": [
        "Subscription_plan = df['Subscription Type'].value_counts().sort_index()\n",
        "plt.figure(figsize=(10,5))\n",
        "Subscription_plan.plot(kind='bar')\n",
        "plt.title('Distribution of User by Subscription Type')\n",
        "plt.ylabel('Users')\n",
        "plt.xlabel('Subscription Type')\n",
        "plt.xticks(rotation=0)\n",
        "plt.show()\n",
        "\n",
        "# Print count of users by subscription type\n",
        "subscription_plan_counts = df['Subscription Type'].value_counts().sort_index()\n",
        "print(\"Count of Users by Subscription Type:\")\n",
        "print(subscription_plan_counts)"
      ]
    },
    {
      "cell_type": "code",
      "source": [
        "#@title Distribution of gender by country\n",
        "# Plot the distribution of gender by country\n",
        "plt.figure(figsize=(14, 8))\n",
        "sns.countplot(x='Country', hue='Gender', data=df, order=df['Country'].value_counts().index)\n",
        "plt.title('Distribution of Users by Country and Gender')\n",
        "plt.xlabel('Country')\n",
        "plt.ylabel('Number of Users')\n",
        "plt.legend(title='Gender')\n",
        "plt.show()\n",
        "# Count of users per gender by country\n",
        "gender_country_counts = df.groupby(['Country', 'Gender']).size().unstack(fill_value=0)\n",
        "print(\"Count of Users per Gender by Country:\")\n",
        "print(gender_country_counts)\n"
      ],
      "metadata": {
        "colab": {
          "base_uri": "https://localhost:8080/",
          "height": 944
        },
        "id": "gA_ncLSnhJkn",
        "outputId": "681114bf-f340-4ca2-a1e0-14e9e034a79b"
      },
      "execution_count": 439,
      "outputs": [
        {
          "output_type": "display_data",
          "data": {
            "text/plain": [
              "<Figure size 1400x800 with 1 Axes>"
            ],
            "image/png": "[encoded data removed]"
          },
          "metadata": {}
        },
        {
          "output_type": "stream",
          "name": "stdout",
          "text": [
            "Count of Users per Gender by Country:\n",
            "Gender          Female  Male\n",
            "Country                     \n",
            "Australia           89    94\n",
            "Brazil              95    88\n",
            "Canada             157   160\n",
            "France              91    92\n",
            "Germany             94    89\n",
            "Italy               91    92\n",
            "Mexico              89    94\n",
            "Spain              233   218\n",
            "United Kingdom      93    90\n",
            "United States      225   226\n"
          ]
        }
      ]
    },
    {
      "cell_type": "code",
      "source": [
        "#@title  Distribution of users by country\n",
        "# Plot the distribution of users by country\n",
        "plt.figure(figsize=(14, 8))\n",
        "sns.countplot(x='Country', data=df, order=df['Country'].value_counts().index)\n",
        "plt.title('Distribution of Users by Country')\n",
        "plt.xlabel('Country')\n",
        "plt.ylabel('Number of Users')\n",
        "plt.show()\n",
        "\n",
        "# Total user count per country\n",
        "country_counts = df['Country'].value_counts()\n",
        "print(\"\\nTotal User Count per Country:\")\n",
        "print(country_counts)"
      ],
      "metadata": {
        "colab": {
          "base_uri": "https://localhost:8080/",
          "height": 961
        },
        "id": "E7fdvv4VfuTt",
        "outputId": "58a08979-a8e2-4aa1-a5a6-3de6ede43986"
      },
      "execution_count": 440,
      "outputs": [
        {
          "output_type": "display_data",
          "data": {
            "text/plain": [
              "<Figure size 1400x800 with 1 Axes>"
            ],
            "image/png": "[encoded data removed]"
          },
          "metadata": {}
        },
        {
          "output_type": "stream",
          "name": "stdout",
          "text": [
            "\n",
            "Total User Count per Country:\n",
            "Country\n",
            "United States     451\n",
            "Spain             451\n",
            "Canada            317\n",
            "United Kingdom    183\n",
            "Australia         183\n",
            "Germany           183\n",
            "France            183\n",
            "Brazil            183\n",
            "Mexico            183\n",
            "Italy             183\n",
            "Name: count, dtype: int64\n"
          ]
        }
      ]
    },
    {
      "cell_type": "code",
      "execution_count": 441,
      "metadata": {
        "colab": {
          "base_uri": "https://localhost:8080/"
        },
        "id": "X-zFcxYGHMIM",
        "outputId": "be3da004-fd70-420c-8490-eb21ced499b4"
      },
      "outputs": [
        {
          "output_type": "stream",
          "name": "stdout",
          "text": [
            "Mean Age: 38.80\n",
            "Median Age: 39.00\n",
            "Standard Deviation of Age: 7.17\n",
            "\n",
            "Gender Counts: Gender\n",
            "Female    1257\n",
            "Male      1243\n",
            "Name: count, dtype: int64\n",
            "\n",
            "Device Counts by Gender:\n",
            "Gender  Device    \n",
            "Female  Laptop        329\n",
            "        Smart TV      305\n",
            "        Smartphone    300\n",
            "        Tablet        323\n",
            "Male    Laptop        307\n",
            "        Smart TV      305\n",
            "        Smartphone    321\n",
            "        Tablet        310\n",
            "Name: Device, dtype: int64\n",
            "\n",
            "T-test statistic for Basic vs Premium: 0.90\n",
            "P-value for Basic vs Premium: 0.37\n",
            "\n"
          ]
        }
      ],
      "source": [
        "# Calculate summary statistics for age and gender\n",
        "age_mean = df['Age'].mean()\n",
        "age_median = df['Age'].median()\n",
        "age_std = df['Age'].std()\n",
        "gender_counts = df['Gender'].value_counts()\n",
        "\n",
        "print(f'Mean Age: {age_mean:.2f}')\n",
        "print(f'Median Age: {age_median:.2f}')\n",
        "print(f'Standard Deviation of Age: {age_std:.2f}\\n')\n",
        "print(f'Gender Counts: {gender_counts}\\n')\n",
        "\n",
        "# Calculate device counts by gender\n",
        "device_counts_by_gender = df.groupby(['Gender', 'Device'])['Device'].count()\n",
        "print(f'Device Counts by Gender:\\n{device_counts_by_gender}\\n')\n",
        "\n",
        "# Perform statistical tests to identify any significant differences in age and gender distribution\n",
        "t_stat, p_val = ttest_ind(df[df['Subscription Type'] == 'Basic']['Age'], df[df['Subscription Type'] == 'Premium']['Age'])\n",
        "print(f'T-test statistic for Basic vs Premium: {t_stat:.2f}')\n",
        "print(f'P-value for Basic vs Premium: {p_val:.2f}\\n')\n",
        "\n",
        "# Assuming 'DeviceUsage' is a calculated metric, replace this with your actual calculation\n",
        "# df['DeviceUsage'] = df['Monthly Revenue'] / df['Age']  # Example calculation\n"
      ]
    },
    {
      "cell_type": "markdown",
      "metadata": {
        "id": "6i43pjayAR5V"
      },
      "source": [
        "##Analysis"
      ]
    },
    {
      "cell_type": "code",
      "execution_count": 442,
      "metadata": {
        "colab": {
          "base_uri": "https://localhost:8080/",
          "height": 1000
        },
        "id": "DtQLfL9WAVqu",
        "outputId": "2e5e84f9-0412-4c33-b324-8e5083154613"
      },
      "outputs": [
        {
          "output_type": "stream",
          "name": "stdout",
          "text": [
            "Correlation matrix:\n",
            "                  User ID  Monthly Revenue       Age\n",
            "User ID          1.000000        -0.004809  0.008065\n",
            "Monthly Revenue -0.004809         1.000000 -0.021143\n",
            "Age              0.008065        -0.021143  1.000000\n",
            "\n"
          ]
        },
        {
          "output_type": "display_data",
          "data": {
            "text/plain": [
              "<Figure size 1000x800 with 2 Axes>"
            ],
            "image/png": "[encoded data removed]"
          },
          "metadata": {}
        },
        {
          "output_type": "display_data",
          "data": {
            "text/plain": [
              "<Figure size 1000x600 with 1 Axes>"
            ],
            "image/png": "[encoded data removed]"
          },
          "metadata": {}
        }
      ],
      "source": [
        "# Analyze the correlation between age and other variables\n",
        "numerical_df = df.select_dtypes(include=['number'])  # select only numerical columns\n",
        "corr_matrix = numerical_df.corr()\n",
        "print(f'Correlation matrix:\\n{corr_matrix}\\n')\n",
        "# Plot the correlation matrix using seaborn\n",
        "plt.figure(figsize=(10, 8))\n",
        "sns.heatmap(corr_matrix, annot=True, cmap='coolwarm')\n",
        "plt.title('Correlation Matrix')\n",
        "plt.show()\n",
        "\n",
        "plt.figure(figsize=(10, 6))\n",
        "sns.scatterplot(x='Device', y='Age', data=df)\n",
        "plt.title('Correlation between Age and Device Usage')\n",
        "plt.xlabel('Device')\n",
        "plt.ylabel('Age')\n",
        "plt.show()"
      ]
    },
    {
      "cell_type": "markdown",
      "source": [
        "\n",
        "\n",
        "---\n",
        "\n",
        "\n",
        "\n",
        "## > The dataset is inadequate for further any model execution for any prediction or classification\n",
        "\n"
      ],
      "metadata": {
        "id": "Nb9_md9GmPKl"
      }
    }
  ],
  "metadata": {
    "colab": {
      "provenance": []
    },
    "kernelspec": {
      "display_name": "Python 3",
      "name": "python3"
    },
    "language_info": {
      "name": "python"
    }
  },
  "nbformat": 4,
  "nbformat_minor": 0
}